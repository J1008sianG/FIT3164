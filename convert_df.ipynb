{
 "cells": [
  {
   "cell_type": "code",
   "execution_count": 1,
   "metadata": {},
   "outputs": [],
   "source": [
    "import pandas as pd\n",
    "import xml.etree.ElementTree as et \n",
    "import csv\n",
    "import numpy as np"
   ]
  },
  {
   "cell_type": "markdown",
   "metadata": {},
   "source": [
    "## IGNORE THIS"
   ]
  },
  {
   "cell_type": "code",
   "execution_count": null,
   "metadata": {},
   "outputs": [],
   "source": [
    "def conv_csv(xml_file): \n",
    "    fields = [\"articletitle\", \"body\", \"subject\"]\n",
    "     \n",
    "\n",
    "    art_title = []\n",
    "    abs_title = []\n",
    "    bod_arr = []\n",
    "    sub_arr = []\n",
    "\n",
    "    xmlParse = et.parse(xml_file)\n",
    "    root = xmlParse.getroot()\n",
    "    \n",
    "\n",
    "    for elem in root.iter():\n",
    "        if elem.tag == \"article-title\": \n",
    "            art_title.append(elem.text) \n",
    "        \n",
    "        elif elem.tag == \"p\": \n",
    "            bod_arr.append(elem.text) \n",
    "        \n",
    "        elif elem.tag == \"abstract\": \n",
    "            abs_title.append(elem.text)\n",
    "        \n",
    "        elif elem.tag == \"subject\": \n",
    "            sub_arr.append(elem.text)\n",
    "    \n",
    "    \n",
    "    return art_title, bod_arr, abs_title, sub_arr\n",
    "    \n",
    "    \n",
    "\n"
   ]
  },
  {
   "cell_type": "code",
   "execution_count": null,
   "metadata": {},
   "outputs": [],
   "source": [
    "conv_csv(\"article.xml\")"
   ]
  },
  {
   "cell_type": "markdown",
   "metadata": {},
   "source": [
    "Convert all the XML file in the directory "
   ]
  },
  {
   "cell_type": "code",
   "execution_count": null,
   "metadata": {},
   "outputs": [],
   "source": [
    "import os \n",
    "directory = r\"C:\\Users\\User\\Desktop\\FIT3164\\allofplos_xml\"\n",
    "\n",
    "for filename in os.listdir(directory): \n",
    "    if filename.endswith(\".xml\"): \n",
    "        conv_csv(filename)\n",
    "    \n",
    "    else: \n",
    "        continue"
   ]
  },
  {
   "cell_type": "code",
   "execution_count": null,
   "metadata": {},
   "outputs": [],
   "source": []
  },
  {
   "cell_type": "code",
   "execution_count": null,
   "metadata": {},
   "outputs": [],
   "source": []
  },
  {
   "cell_type": "markdown",
   "metadata": {},
   "source": [
    "## ALTERNATIVE APPROACH TO CONVERT XML TO DATAFRAME"
   ]
  },
  {
   "cell_type": "code",
   "execution_count": 12,
   "metadata": {},
   "outputs": [],
   "source": [
    "def convert_xml_to_df(xml_file): \n",
    "    text = []\n",
    "    tag = []\n",
    "    \n",
    "    xmlParse = et.parse(xml_file)\n",
    "    root = xmlParse.getroot()\n",
    "\n",
    "    for child in root.iter(): \n",
    "        text.append(child.text)\n",
    "        tag.append(child.tag)\n",
    "\n",
    "    df = pd.DataFrame({\n",
    "        \"tag\" : tag,\n",
    "        \"text\" : text\n",
    "    })\n",
    "    \n",
    "    return df"
   ]
  },
  {
   "cell_type": "code",
   "execution_count": 13,
   "metadata": {},
   "outputs": [
    {
     "data": {
      "text/html": [
       "<div>\n",
       "<style scoped>\n",
       "    .dataframe tbody tr th:only-of-type {\n",
       "        vertical-align: middle;\n",
       "    }\n",
       "\n",
       "    .dataframe tbody tr th {\n",
       "        vertical-align: top;\n",
       "    }\n",
       "\n",
       "    .dataframe thead th {\n",
       "        text-align: right;\n",
       "    }\n",
       "</style>\n",
       "<table border=\"1\" class=\"dataframe\">\n",
       "  <thead>\n",
       "    <tr style=\"text-align: right;\">\n",
       "      <th></th>\n",
       "      <th>tag</th>\n",
       "      <th>text</th>\n",
       "    </tr>\n",
       "  </thead>\n",
       "  <tbody>\n",
       "    <tr>\n",
       "      <td>0</td>\n",
       "      <td>article</td>\n",
       "      <td>\\n</td>\n",
       "    </tr>\n",
       "    <tr>\n",
       "      <td>1</td>\n",
       "      <td>front</td>\n",
       "      <td>\\n</td>\n",
       "    </tr>\n",
       "    <tr>\n",
       "      <td>2</td>\n",
       "      <td>journal-meta</td>\n",
       "      <td>None</td>\n",
       "    </tr>\n",
       "    <tr>\n",
       "      <td>3</td>\n",
       "      <td>journal-id</td>\n",
       "      <td>plos</td>\n",
       "    </tr>\n",
       "    <tr>\n",
       "      <td>4</td>\n",
       "      <td>journal-id</td>\n",
       "      <td>pbio</td>\n",
       "    </tr>\n",
       "    <tr>\n",
       "      <td>...</td>\n",
       "      <td>...</td>\n",
       "      <td>...</td>\n",
       "    </tr>\n",
       "    <tr>\n",
       "      <td>2354</td>\n",
       "      <td>p</td>\n",
       "      <td>serine repeat antigen</td>\n",
       "    </tr>\n",
       "    <tr>\n",
       "      <td>2355</td>\n",
       "      <td>def-item</td>\n",
       "      <td>\\n</td>\n",
       "    </tr>\n",
       "    <tr>\n",
       "      <td>2356</td>\n",
       "      <td>term</td>\n",
       "      <td>TCA</td>\n",
       "    </tr>\n",
       "    <tr>\n",
       "      <td>2357</td>\n",
       "      <td>def</td>\n",
       "      <td>\\n</td>\n",
       "    </tr>\n",
       "    <tr>\n",
       "      <td>2358</td>\n",
       "      <td>p</td>\n",
       "      <td>tricarboxylic acid.</td>\n",
       "    </tr>\n",
       "  </tbody>\n",
       "</table>\n",
       "<p>2359 rows × 2 columns</p>\n",
       "</div>"
      ],
      "text/plain": [
       "               tag                   text\n",
       "0          article                   \\n  \n",
       "1            front                 \\n    \n",
       "2     journal-meta                   None\n",
       "3       journal-id                   plos\n",
       "4       journal-id                   pbio\n",
       "...            ...                    ...\n",
       "2354             p  serine repeat antigen\n",
       "2355      def-item           \\n          \n",
       "2356          term                    TCA\n",
       "2357           def         \\n            \n",
       "2358             p    tricarboxylic acid.\n",
       "\n",
       "[2359 rows x 2 columns]"
      ]
     },
     "execution_count": 13,
     "metadata": {},
     "output_type": "execute_result"
    }
   ],
   "source": [
    "convert_xml_to_df(\"article.xml\")"
   ]
  },
  {
   "cell_type": "code",
   "execution_count": null,
   "metadata": {},
   "outputs": [],
   "source": []
  }
 ],
 "metadata": {
  "kernelspec": {
   "display_name": "Python 3.7.4",
   "language": "python",
   "name": "python3"
  },
  "language_info": {
   "codemirror_mode": {
    "name": "ipython",
    "version": 3
   },
   "file_extension": ".py",
   "mimetype": "text/x-python",
   "name": "python",
   "nbconvert_exporter": "python",
   "pygments_lexer": "ipython3",
   "version": "3.7.4"
  },
  "orig_nbformat": 4,
  "vscode": {
   "interpreter": {
    "hash": "212d9ecee1641d5c4e8feecf7a980413cbfb808cafcd876aa846bb1947553620"
   }
  }
 },
 "nbformat": 4,
 "nbformat_minor": 2
}
